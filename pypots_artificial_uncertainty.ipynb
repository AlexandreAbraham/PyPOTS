{
 "cells": [
  {
   "cell_type": "markdown",
   "metadata": {},
   "source": [
    "## Running example from the readme\n"
   ]
  },
  {
   "cell_type": "code",
   "execution_count": 2,
   "metadata": {},
   "outputs": [],
   "source": [
    "%load_ext autoreload\n",
    "%autoreload 2"
   ]
  },
  {
   "cell_type": "code",
   "execution_count": 3,
   "metadata": {},
   "outputs": [
    {
     "name": "stderr",
     "output_type": "stream",
     "text": [
      "100%|██████████████████████████████████████| 2000/2000 [00:03<00:00, 565.32it/s]\n"
     ]
    }
   ],
   "source": [
    "import numpy as np\n",
    "from tqdm import tqdm\n",
    "import matplotlib.pyplot as plt\n",
    "from sklearn.gaussian_process import GaussianProcessRegressor\n",
    "from sklearn.gaussian_process.kernels import RBF\n",
    "\n",
    "def generate_gp_samples_with_library(n_groups, n_observations_per_group, n_dimensions, time_points, length_scale=1.0):\n",
    "    \"\"\"\n",
    "    Generate multidimensional GP samples using scikit-learn.\n",
    "    Each dimension has the same underlying process.\n",
    "    \"\"\"\n",
    "    kernel = RBF(length_scale=length_scale)\n",
    "    gp = GaussianProcessRegressor(kernel=kernel, alpha=1e-8)\n",
    "\n",
    "    gp_sample_constant = gp.sample_y(time_points.reshape(-1, 1), random_state=None).flatten()\n",
    "\n",
    "    samples = []\n",
    "    for _ in range(n_groups):\n",
    "        group_samples = []\n",
    "        for _ in tqdm(range(n_observations_per_group)):\n",
    "            # Generate independent samples for each dimension\n",
    "            gp_samples_per_dim = []\n",
    "            for _ in range(n_dimensions):\n",
    "                gp_sample = gp.sample_y(time_points.reshape(-1, 1), random_state=None).flatten()\n",
    "                gp_samples_per_dim.append(gp_sample)\n",
    "            # Stack the samples to form a multidimensional sample\n",
    "            gp_samples_multidim = np.stack(gp_samples_per_dim, axis=-1)\n",
    "            group_samples.append(gp_samples_multidim)\n",
    "        samples.append(np.array(group_samples))\n",
    "\n",
    "    return samples\n",
    "\n",
    "# Parameters\n",
    "n_groups = 1\n",
    "n_observations_per_group = 2000\n",
    "n_dimensions = 3\n",
    "n_time_points = 50\n",
    "time_points = np.linspace(0, 10, n_time_points)\n",
    "length_scale = 1.5\n",
    "\n",
    "# Generate GP samples\n",
    "gp_samples = generate_gp_samples_with_library(\n",
    "    n_groups=n_groups,\n",
    "    n_observations_per_group=n_observations_per_group,\n",
    "    n_dimensions=n_dimensions,\n",
    "    time_points=time_points,\n",
    "    length_scale=length_scale\n",
    ")\n",
    "\n",
    "if False:\n",
    "    # Plot example\n",
    "    for dim in range(n_dimensions):\n",
    "        for group_idx in range(n_groups):\n",
    "            plt.figure()\n",
    "            for observation in gp_samples[group_idx]:\n",
    "                plt.plot(time_points, observation[:, dim], label=f\"Dim {dim + 1}\")\n",
    "            plt.title(f\"Group {group_idx + 1} Observations for Dimension {dim + 1}\")\n",
    "            plt.xlabel(\"Time\")\n",
    "            plt.ylabel(\"Value\")\n",
    "            plt.legend()\n",
    "            plt.show()\n"
   ]
  },
  {
   "cell_type": "code",
   "execution_count": 4,
   "metadata": {},
   "outputs": [],
   "source": [
    "n_new_dims = 10\n",
    "Proj = np.random.uniform(size = (n_dimensions, n_new_dims))#.reshape(1,1,n_dimensions, n_new_dims)\n",
    "X_ori = gp_samples[0] @ Proj"
   ]
  },
  {
   "cell_type": "code",
   "execution_count": 5,
   "metadata": {},
   "outputs": [],
   "source": [
    "list_p_dataset = [0.01, 0.3, 0.5]\n",
    "list_p_model = [0.01, 0.05, 0.1, 0.3, 0.5, 0.8]\n",
    "list_gamma = [0., 0.1, 0.5]"
   ]
  },
  {
   "cell_type": "code",
   "execution_count": 6,
   "metadata": {
    "scrolled": true
   },
   "outputs": [],
   "source": [
    "# Normalize\n",
    "\n",
    "X = (X_ori - X_ori.mean(axis=(0,1)).reshape(1,1,-1)) / X_ori.std(axis=(0,1)).reshape(1,1,-1)"
   ]
  },
  {
   "cell_type": "code",
   "execution_count": 7,
   "metadata": {
    "scrolled": true
   },
   "outputs": [],
   "source": [
    "from pygrinder import mcar\n",
    "X = mcar(X, 0.3)  # randomly hold out 10% observed values as ground truth\n",
    "X[X!=X] = 0\n",
    "dataset = {'X' : X}"
   ]
  },
  {
   "cell_type": "code",
   "execution_count": 8,
   "metadata": {},
   "outputs": [
    {
     "name": "stdout",
     "output_type": "stream",
     "text": [
      "numpy version: 1.24.4\n"
     ]
    }
   ],
   "source": [
    "print(f\"numpy version: {np.__version__}\")\n"
   ]
  },
  {
   "cell_type": "code",
   "execution_count": 9,
   "metadata": {},
   "outputs": [],
   "source": [
    "#!pip install -r requirements/requirements.txt"
   ]
  },
  {
   "cell_type": "code",
   "execution_count": 23,
   "metadata": {
    "scrolled": true
   },
   "outputs": [
    {
     "name": "stderr",
     "output_type": "stream",
     "text": [
      "2024-11-22 20:51:24 [INFO]: No given device, using default device: cpu\n",
      "2024-11-22 20:51:24 [WARNING]: ‼️ saving_path not given. Model files and tensorboard file will not be saved.\n",
      "2024-11-22 20:51:24 [INFO]: GP_VAE initialized with the given hyperparameters, the number of trainable parameters: 21,782\n"
     ]
    },
    {
     "name": "stdout",
     "output_type": "stream",
     "text": [
      "Model dimensions is: \n",
      "GpvaeEncoder(\n",
      "  (net): Sequential(\n",
      "    (0): Linear(in_features=20, out_features=128, bias=True)\n",
      "    (1): ReLU()\n",
      "    (2): Linear(in_features=128, out_features=128, bias=True)\n",
      "    (3): LeakyReLU(negative_slope=0.01)\n",
      "  )\n",
      "  (mu_layer): Linear(in_features=128, out_features=3, bias=True)\n",
      "  (logvar_layer): Linear(in_features=128, out_features=3, bias=True)\n",
      ")\n",
      "GpvaeDecoder(\n",
      "  (net): Sequential(\n",
      "    (0): Linear(in_features=3, out_features=128, bias=True)\n",
      "    (1): ReLU()\n",
      "    (2): Linear(in_features=128, out_features=10, bias=True)\n",
      "  )\n",
      ")\n"
     ]
    },
    {
     "name": "stderr",
     "output_type": "stream",
     "text": [
      "2024-11-22 20:51:30 [INFO]: Epoch 001 - training loss: 13484.0329\n"
     ]
    },
    {
     "name": "stdout",
     "output_type": "stream",
     "text": [
      "mean of mask of imputed coords : tensor(0.3027)\n"
     ]
    },
    {
     "name": "stderr",
     "output_type": "stream",
     "text": [
      "2024-11-22 20:51:37 [INFO]: Epoch 002 - training loss: 9080.6991\n",
      "2024-11-22 20:51:42 [INFO]: Epoch 003 - training loss: 4499.9304\n"
     ]
    },
    {
     "name": "stdout",
     "output_type": "stream",
     "text": [
      "mean of mask of imputed coords : tensor(0.2947)\n"
     ]
    },
    {
     "name": "stderr",
     "output_type": "stream",
     "text": [
      "2024-11-22 20:51:48 [INFO]: Epoch 004 - training loss: 2142.2844\n"
     ]
    },
    {
     "name": "stdout",
     "output_type": "stream",
     "text": [
      "mean of mask of imputed coords : tensor(0.3003)\n"
     ]
    },
    {
     "name": "stderr",
     "output_type": "stream",
     "text": [
      "2024-11-22 20:51:54 [INFO]: Epoch 005 - training loss: 1264.9947\n",
      "2024-11-22 20:52:00 [INFO]: Epoch 006 - training loss: 909.6386\n"
     ]
    },
    {
     "name": "stdout",
     "output_type": "stream",
     "text": [
      "mean of mask of imputed coords : tensor(0.2991)\n"
     ]
    },
    {
     "name": "stderr",
     "output_type": "stream",
     "text": [
      "2024-11-22 20:52:06 [INFO]: Epoch 007 - training loss: 723.1555\n"
     ]
    },
    {
     "name": "stdout",
     "output_type": "stream",
     "text": [
      "mean of mask of imputed coords : tensor(0.2939)\n"
     ]
    },
    {
     "name": "stderr",
     "output_type": "stream",
     "text": [
      "2024-11-22 20:52:12 [INFO]: Epoch 008 - training loss: 607.0570\n",
      "2024-11-22 20:52:17 [INFO]: Epoch 009 - training loss: 525.9596\n"
     ]
    },
    {
     "name": "stdout",
     "output_type": "stream",
     "text": [
      "mean of mask of imputed coords : tensor(0.2959)\n"
     ]
    },
    {
     "name": "stderr",
     "output_type": "stream",
     "text": [
      "2024-11-22 20:52:23 [INFO]: Epoch 010 - training loss: 462.6998\n",
      "2024-11-22 20:52:28 [INFO]: Epoch 011 - training loss: 409.9143\n"
     ]
    },
    {
     "name": "stdout",
     "output_type": "stream",
     "text": [
      "mean of mask of imputed coords : tensor(0.3022)\n"
     ]
    },
    {
     "name": "stderr",
     "output_type": "stream",
     "text": [
      "2024-11-22 20:52:35 [INFO]: Epoch 012 - training loss: 365.5657\n"
     ]
    },
    {
     "name": "stdout",
     "output_type": "stream",
     "text": [
      "mean of mask of imputed coords : tensor(0.2970)\n"
     ]
    },
    {
     "name": "stderr",
     "output_type": "stream",
     "text": [
      "2024-11-22 20:52:40 [INFO]: Epoch 013 - training loss: 325.0483\n",
      "2024-11-22 20:52:45 [INFO]: Epoch 014 - training loss: 293.8723\n"
     ]
    },
    {
     "name": "stdout",
     "output_type": "stream",
     "text": [
      "mean of mask of imputed coords : tensor(0.3047)\n"
     ]
    },
    {
     "name": "stderr",
     "output_type": "stream",
     "text": [
      "2024-11-22 20:52:51 [INFO]: Epoch 015 - training loss: 267.9857\n"
     ]
    },
    {
     "name": "stdout",
     "output_type": "stream",
     "text": [
      "mean of mask of imputed coords : tensor(0.2934)\n"
     ]
    },
    {
     "name": "stderr",
     "output_type": "stream",
     "text": [
      "2024-11-22 20:52:57 [INFO]: Epoch 016 - training loss: 244.9687\n",
      "2024-11-22 20:53:02 [INFO]: Epoch 017 - training loss: 227.2004\n"
     ]
    },
    {
     "name": "stdout",
     "output_type": "stream",
     "text": [
      "mean of mask of imputed coords : tensor(0.2977)\n"
     ]
    },
    {
     "name": "stderr",
     "output_type": "stream",
     "text": [
      "2024-11-22 20:53:07 [INFO]: Epoch 018 - training loss: 211.6058\n",
      "2024-11-22 20:53:13 [INFO]: Epoch 019 - training loss: 199.0129\n"
     ]
    },
    {
     "name": "stdout",
     "output_type": "stream",
     "text": [
      "mean of mask of imputed coords : tensor(0.2925)\n"
     ]
    },
    {
     "name": "stderr",
     "output_type": "stream",
     "text": [
      "2024-11-22 20:53:18 [INFO]: Epoch 020 - training loss: 188.2800\n"
     ]
    },
    {
     "name": "stdout",
     "output_type": "stream",
     "text": [
      "mean of mask of imputed coords : tensor(0.2956)\n"
     ]
    },
    {
     "name": "stderr",
     "output_type": "stream",
     "text": [
      "2024-11-22 20:53:24 [INFO]: Epoch 021 - training loss: 178.9181\n",
      "2024-11-22 20:53:29 [INFO]: Epoch 022 - training loss: 171.3517\n"
     ]
    },
    {
     "name": "stdout",
     "output_type": "stream",
     "text": [
      "mean of mask of imputed coords : tensor(0.3048)\n"
     ]
    },
    {
     "name": "stderr",
     "output_type": "stream",
     "text": [
      "2024-11-22 20:53:35 [INFO]: Epoch 023 - training loss: 164.9783\n"
     ]
    },
    {
     "name": "stdout",
     "output_type": "stream",
     "text": [
      "mean of mask of imputed coords : tensor(0.2988)\n"
     ]
    },
    {
     "name": "stderr",
     "output_type": "stream",
     "text": [
      "2024-11-22 20:53:40 [INFO]: Epoch 024 - training loss: 159.2114\n",
      "2024-11-22 20:53:45 [INFO]: Epoch 025 - training loss: 154.3298\n"
     ]
    },
    {
     "name": "stdout",
     "output_type": "stream",
     "text": [
      "mean of mask of imputed coords : tensor(0.3041)\n"
     ]
    },
    {
     "name": "stderr",
     "output_type": "stream",
     "text": [
      "2024-11-22 20:53:51 [INFO]: Epoch 026 - training loss: 149.4684\n"
     ]
    },
    {
     "name": "stdout",
     "output_type": "stream",
     "text": [
      "mean of mask of imputed coords : tensor(0.3031)\n"
     ]
    },
    {
     "name": "stderr",
     "output_type": "stream",
     "text": [
      "2024-11-22 20:53:56 [INFO]: Epoch 027 - training loss: 145.6219\n",
      "2024-11-22 20:54:01 [INFO]: Epoch 028 - training loss: 142.0945\n"
     ]
    },
    {
     "name": "stdout",
     "output_type": "stream",
     "text": [
      "mean of mask of imputed coords : tensor(0.3015)\n"
     ]
    },
    {
     "name": "stderr",
     "output_type": "stream",
     "text": [
      "2024-11-22 20:54:06 [INFO]: Epoch 029 - training loss: 139.0906\n",
      "2024-11-22 20:54:11 [INFO]: Epoch 030 - training loss: 136.2607\n"
     ]
    },
    {
     "name": "stdout",
     "output_type": "stream",
     "text": [
      "mean of mask of imputed coords : tensor(0.3008)\n"
     ]
    },
    {
     "name": "stderr",
     "output_type": "stream",
     "text": [
      "2024-11-22 20:54:17 [INFO]: Epoch 031 - training loss: 133.4461\n"
     ]
    },
    {
     "name": "stdout",
     "output_type": "stream",
     "text": [
      "mean of mask of imputed coords : tensor(0.2977)\n"
     ]
    },
    {
     "name": "stderr",
     "output_type": "stream",
     "text": [
      "2024-11-22 20:54:23 [INFO]: Epoch 032 - training loss: 131.3000\n",
      "2024-11-22 20:54:28 [INFO]: Epoch 033 - training loss: 129.0219\n"
     ]
    },
    {
     "name": "stdout",
     "output_type": "stream",
     "text": [
      "mean of mask of imputed coords : tensor(0.3018)\n"
     ]
    },
    {
     "name": "stderr",
     "output_type": "stream",
     "text": [
      "2024-11-22 20:54:34 [INFO]: Epoch 034 - training loss: 127.0582\n"
     ]
    },
    {
     "name": "stdout",
     "output_type": "stream",
     "text": [
      "mean of mask of imputed coords : tensor(0.3028)\n"
     ]
    },
    {
     "name": "stderr",
     "output_type": "stream",
     "text": [
      "2024-11-22 20:54:39 [INFO]: Epoch 035 - training loss: 125.4569\n",
      "2024-11-22 20:54:44 [INFO]: Epoch 036 - training loss: 123.6201\n"
     ]
    },
    {
     "name": "stdout",
     "output_type": "stream",
     "text": [
      "mean of mask of imputed coords : tensor(0.2966)\n"
     ]
    },
    {
     "name": "stderr",
     "output_type": "stream",
     "text": [
      "2024-11-22 20:54:50 [INFO]: Epoch 037 - training loss: 122.5693\n",
      "2024-11-22 20:59:36 [INFO]: Epoch 038 - training loss: 120.9997\n"
     ]
    },
    {
     "name": "stdout",
     "output_type": "stream",
     "text": [
      "mean of mask of imputed coords : tensor(0.2980)\n"
     ]
    },
    {
     "name": "stderr",
     "output_type": "stream",
     "text": [
      "2024-11-22 20:59:43 [INFO]: Epoch 039 - training loss: 119.5844\n"
     ]
    },
    {
     "name": "stdout",
     "output_type": "stream",
     "text": [
      "mean of mask of imputed coords : tensor(0.3021)\n"
     ]
    },
    {
     "name": "stderr",
     "output_type": "stream",
     "text": [
      "2024-11-22 20:59:49 [INFO]: Epoch 040 - training loss: 118.5083\n",
      "2024-11-22 20:59:54 [INFO]: Epoch 041 - training loss: 117.1647\n"
     ]
    },
    {
     "name": "stdout",
     "output_type": "stream",
     "text": [
      "mean of mask of imputed coords : tensor(0.2962)\n"
     ]
    },
    {
     "name": "stderr",
     "output_type": "stream",
     "text": [
      "2024-11-22 21:00:00 [INFO]: Epoch 042 - training loss: 116.0584\n"
     ]
    },
    {
     "name": "stdout",
     "output_type": "stream",
     "text": [
      "mean of mask of imputed coords : tensor(0.2994)\n"
     ]
    },
    {
     "name": "stderr",
     "output_type": "stream",
     "text": [
      "2024-11-22 21:00:06 [INFO]: Epoch 043 - training loss: 114.9804\n",
      "2024-11-22 21:00:11 [INFO]: Epoch 044 - training loss: 113.9338\n",
      "2024-11-22 21:00:11 [WARNING]: ‼️ Training got interrupted by the user. Exist now ...\n",
      "2024-11-22 21:00:11 [INFO]: Finished training. The best model is from epoch#44.\n"
     ]
    }
   ],
   "source": [
    "\n",
    "# Model training. This is PyPOTS showtime.\n",
    "from pypots.imputation import GP_VAE\n",
    "from pypots.utils.metrics import calc_mae\n",
    "from pypots.optim.adam import Adam\n",
    "from torch.optim.lr_scheduler import LRScheduler\n",
    "\n",
    "gpvae = GP_VAE(n_steps = dataset['X'].shape[1], \n",
    "            n_features = dataset['X'].shape[2], \n",
    "            latent_size = 3, \n",
    "            epochs = 200, \n",
    "            batch_size = 32,\n",
    "            beta = .01, \n",
    "            K = 10,  \n",
    "            encoder_sizes = (128,128), \n",
    "            decoder_sizes = (128,),\n",
    "            optimizer = Adam(lr = 1e-4) #, v\n",
    "            )\n",
    "\n",
    "gpvae.model.backbone.gamma = 0.5\n",
    "gpvae.model.backbone.p = 0.05\n",
    "# Here I use the whole dataset as the training set because ground truth is not visible to the model, you can also split it into train/val/test sets\n",
    "#with torch.autograd.set_detect_anomaly(False):\n",
    "gpvae.fit(dataset)  # train the model on the dataset"
   ]
  },
  {
   "cell_type": "code",
   "execution_count": 27,
   "metadata": {},
   "outputs": [
    {
     "name": "stderr",
     "output_type": "stream",
     "text": [
      "2024-11-22 21:19:59 [INFO]: Epoch 001 - training loss: 12.9385\n"
     ]
    },
    {
     "name": "stdout",
     "output_type": "stream",
     "text": [
      "mean of mask of imputed coords : tensor(0.3039)\n"
     ]
    },
    {
     "name": "stderr",
     "output_type": "stream",
     "text": [
      "2024-11-22 21:20:04 [INFO]: Epoch 002 - training loss: 12.9792\n",
      "2024-11-22 21:20:09 [INFO]: Epoch 003 - training loss: 12.9082\n"
     ]
    },
    {
     "name": "stdout",
     "output_type": "stream",
     "text": [
      "mean of mask of imputed coords : tensor(0.2991)\n"
     ]
    },
    {
     "name": "stderr",
     "output_type": "stream",
     "text": [
      "2024-11-22 21:20:14 [INFO]: Epoch 004 - training loss: 12.9431\n"
     ]
    },
    {
     "name": "stdout",
     "output_type": "stream",
     "text": [
      "mean of mask of imputed coords : tensor(0.2936)\n"
     ]
    },
    {
     "name": "stderr",
     "output_type": "stream",
     "text": [
      "2024-11-22 21:20:19 [INFO]: Epoch 005 - training loss: 12.8251\n",
      "2024-11-22 21:20:24 [INFO]: Epoch 006 - training loss: 12.8717\n"
     ]
    },
    {
     "name": "stdout",
     "output_type": "stream",
     "text": [
      "mean of mask of imputed coords : tensor(0.3060)\n"
     ]
    },
    {
     "name": "stderr",
     "output_type": "stream",
     "text": [
      "2024-11-22 21:20:29 [INFO]: Epoch 007 - training loss: 12.8410\n"
     ]
    },
    {
     "name": "stdout",
     "output_type": "stream",
     "text": [
      "mean of mask of imputed coords : tensor(0.2917)\n"
     ]
    },
    {
     "name": "stderr",
     "output_type": "stream",
     "text": [
      "2024-11-22 21:20:34 [INFO]: Epoch 008 - training loss: 12.7853\n",
      "2024-11-22 21:20:38 [INFO]: Epoch 009 - training loss: 12.7756\n"
     ]
    },
    {
     "name": "stdout",
     "output_type": "stream",
     "text": [
      "mean of mask of imputed coords : tensor(0.2949)\n"
     ]
    },
    {
     "name": "stderr",
     "output_type": "stream",
     "text": [
      "2024-11-22 21:20:44 [INFO]: Epoch 010 - training loss: 12.8198\n",
      "2024-11-22 21:20:49 [INFO]: Epoch 011 - training loss: 12.6965\n"
     ]
    },
    {
     "name": "stdout",
     "output_type": "stream",
     "text": [
      "mean of mask of imputed coords : tensor(0.3033)\n"
     ]
    },
    {
     "name": "stderr",
     "output_type": "stream",
     "text": [
      "2024-11-22 21:20:53 [INFO]: Epoch 012 - training loss: 12.7140\n"
     ]
    },
    {
     "name": "stdout",
     "output_type": "stream",
     "text": [
      "mean of mask of imputed coords : tensor(0.2969)\n"
     ]
    },
    {
     "name": "stderr",
     "output_type": "stream",
     "text": [
      "2024-11-22 21:20:59 [INFO]: Epoch 013 - training loss: 12.7798\n",
      "2024-11-22 21:21:04 [INFO]: Epoch 014 - training loss: 12.6619\n"
     ]
    },
    {
     "name": "stdout",
     "output_type": "stream",
     "text": [
      "mean of mask of imputed coords : tensor(0.2952)\n"
     ]
    },
    {
     "name": "stderr",
     "output_type": "stream",
     "text": [
      "2024-11-22 21:21:09 [INFO]: Epoch 015 - training loss: 12.6596\n"
     ]
    },
    {
     "name": "stdout",
     "output_type": "stream",
     "text": [
      "mean of mask of imputed coords : tensor(0.3027)\n"
     ]
    },
    {
     "name": "stderr",
     "output_type": "stream",
     "text": [
      "2024-11-22 21:21:13 [INFO]: Epoch 016 - training loss: 12.5507\n",
      "2024-11-22 21:21:18 [INFO]: Epoch 017 - training loss: 12.5719\n"
     ]
    },
    {
     "name": "stdout",
     "output_type": "stream",
     "text": [
      "mean of mask of imputed coords : tensor(0.3034)\n"
     ]
    },
    {
     "name": "stderr",
     "output_type": "stream",
     "text": [
      "2024-11-22 21:21:24 [INFO]: Epoch 018 - training loss: 12.5016\n",
      "2024-11-22 21:21:28 [INFO]: Epoch 019 - training loss: 12.4488\n"
     ]
    },
    {
     "name": "stdout",
     "output_type": "stream",
     "text": [
      "mean of mask of imputed coords : tensor(0.2954)\n"
     ]
    },
    {
     "name": "stderr",
     "output_type": "stream",
     "text": [
      "2024-11-22 21:21:33 [INFO]: Epoch 020 - training loss: 12.5781\n"
     ]
    },
    {
     "name": "stdout",
     "output_type": "stream",
     "text": [
      "mean of mask of imputed coords : tensor(0.3084)\n"
     ]
    },
    {
     "name": "stderr",
     "output_type": "stream",
     "text": [
      "2024-11-22 21:21:38 [INFO]: Epoch 021 - training loss: 12.5222\n",
      "2024-11-22 21:21:43 [INFO]: Epoch 022 - training loss: 12.4762\n"
     ]
    },
    {
     "name": "stdout",
     "output_type": "stream",
     "text": [
      "mean of mask of imputed coords : tensor(0.3049)\n"
     ]
    },
    {
     "name": "stderr",
     "output_type": "stream",
     "text": [
      "2024-11-22 21:21:48 [INFO]: Epoch 023 - training loss: 12.4138\n"
     ]
    },
    {
     "name": "stdout",
     "output_type": "stream",
     "text": [
      "mean of mask of imputed coords : tensor(0.3038)\n"
     ]
    },
    {
     "name": "stderr",
     "output_type": "stream",
     "text": [
      "2024-11-22 21:21:53 [INFO]: Epoch 024 - training loss: 12.4651\n",
      "2024-11-22 21:21:58 [INFO]: Epoch 025 - training loss: 12.4198\n"
     ]
    },
    {
     "name": "stdout",
     "output_type": "stream",
     "text": [
      "mean of mask of imputed coords : tensor(0.2975)\n"
     ]
    },
    {
     "name": "stderr",
     "output_type": "stream",
     "text": [
      "2024-11-22 21:22:03 [INFO]: Epoch 026 - training loss: 12.3973\n"
     ]
    },
    {
     "name": "stdout",
     "output_type": "stream",
     "text": [
      "mean of mask of imputed coords : tensor(0.3068)\n"
     ]
    },
    {
     "name": "stderr",
     "output_type": "stream",
     "text": [
      "2024-11-22 21:22:08 [INFO]: Epoch 027 - training loss: 12.3499\n",
      "2024-11-22 21:22:13 [INFO]: Epoch 028 - training loss: 12.2207\n"
     ]
    },
    {
     "name": "stdout",
     "output_type": "stream",
     "text": [
      "mean of mask of imputed coords : tensor(0.2986)\n"
     ]
    },
    {
     "name": "stderr",
     "output_type": "stream",
     "text": [
      "2024-11-22 21:22:18 [INFO]: Epoch 029 - training loss: 12.2704\n",
      "2024-11-22 21:22:23 [INFO]: Epoch 030 - training loss: 12.3005\n"
     ]
    },
    {
     "name": "stdout",
     "output_type": "stream",
     "text": [
      "mean of mask of imputed coords : tensor(0.2931)\n"
     ]
    },
    {
     "name": "stderr",
     "output_type": "stream",
     "text": [
      "2024-11-22 21:22:27 [INFO]: Epoch 031 - training loss: 12.1626\n"
     ]
    },
    {
     "name": "stdout",
     "output_type": "stream",
     "text": [
      "mean of mask of imputed coords : tensor(0.3009)\n"
     ]
    },
    {
     "name": "stderr",
     "output_type": "stream",
     "text": [
      "2024-11-22 21:22:32 [INFO]: Epoch 032 - training loss: 12.1888\n",
      "2024-11-22 21:22:37 [INFO]: Epoch 033 - training loss: 12.2571\n"
     ]
    },
    {
     "name": "stdout",
     "output_type": "stream",
     "text": [
      "mean of mask of imputed coords : tensor(0.3025)\n"
     ]
    },
    {
     "name": "stderr",
     "output_type": "stream",
     "text": [
      "2024-11-22 21:22:42 [INFO]: Epoch 034 - training loss: 12.1983\n"
     ]
    },
    {
     "name": "stdout",
     "output_type": "stream",
     "text": [
      "mean of mask of imputed coords : tensor(0.3015)\n"
     ]
    },
    {
     "name": "stderr",
     "output_type": "stream",
     "text": [
      "2024-11-22 21:22:47 [INFO]: Epoch 035 - training loss: 12.2091\n",
      "2024-11-22 21:22:52 [INFO]: Epoch 036 - training loss: 12.1849\n"
     ]
    },
    {
     "name": "stdout",
     "output_type": "stream",
     "text": [
      "mean of mask of imputed coords : tensor(0.2934)\n"
     ]
    },
    {
     "name": "stderr",
     "output_type": "stream",
     "text": [
      "2024-11-22 21:22:57 [INFO]: Epoch 037 - training loss: 12.1125\n",
      "2024-11-22 21:23:02 [INFO]: Epoch 038 - training loss: 12.1035\n"
     ]
    },
    {
     "name": "stdout",
     "output_type": "stream",
     "text": [
      "mean of mask of imputed coords : tensor(0.2968)\n"
     ]
    },
    {
     "name": "stderr",
     "output_type": "stream",
     "text": [
      "2024-11-22 21:23:07 [INFO]: Epoch 039 - training loss: 12.1472\n"
     ]
    },
    {
     "name": "stdout",
     "output_type": "stream",
     "text": [
      "mean of mask of imputed coords : tensor(0.3051)\n"
     ]
    },
    {
     "name": "stderr",
     "output_type": "stream",
     "text": [
      "2024-11-22 21:23:13 [INFO]: Epoch 040 - training loss: 12.0868\n",
      "2024-11-22 21:23:33 [INFO]: Epoch 041 - training loss: 11.9869\n"
     ]
    },
    {
     "name": "stdout",
     "output_type": "stream",
     "text": [
      "mean of mask of imputed coords : tensor(0.3052)\n"
     ]
    },
    {
     "name": "stderr",
     "output_type": "stream",
     "text": [
      "2024-11-22 21:23:38 [INFO]: Epoch 042 - training loss: 11.9745\n"
     ]
    },
    {
     "name": "stdout",
     "output_type": "stream",
     "text": [
      "mean of mask of imputed coords : tensor(0.2992)\n"
     ]
    },
    {
     "name": "stderr",
     "output_type": "stream",
     "text": [
      "2024-11-22 21:23:43 [INFO]: Epoch 043 - training loss: 12.1231\n",
      "2024-11-22 21:23:49 [INFO]: Epoch 044 - training loss: 11.9748\n"
     ]
    },
    {
     "name": "stdout",
     "output_type": "stream",
     "text": [
      "mean of mask of imputed coords : tensor(0.2993)\n"
     ]
    },
    {
     "name": "stderr",
     "output_type": "stream",
     "text": [
      "2024-11-22 21:23:54 [INFO]: Epoch 045 - training loss: 11.9752\n",
      "2024-11-22 21:23:59 [INFO]: Epoch 046 - training loss: 11.9273\n"
     ]
    },
    {
     "name": "stdout",
     "output_type": "stream",
     "text": [
      "mean of mask of imputed coords : tensor(0.3029)\n"
     ]
    },
    {
     "name": "stderr",
     "output_type": "stream",
     "text": [
      "2024-11-22 21:24:05 [INFO]: Epoch 047 - training loss: 11.9342\n"
     ]
    },
    {
     "name": "stdout",
     "output_type": "stream",
     "text": [
      "mean of mask of imputed coords : tensor(0.2969)\n"
     ]
    },
    {
     "name": "stderr",
     "output_type": "stream",
     "text": [
      "2024-11-22 21:24:10 [INFO]: Epoch 048 - training loss: 11.9446\n",
      "2024-11-22 21:24:14 [INFO]: Epoch 049 - training loss: 11.9922\n"
     ]
    },
    {
     "name": "stdout",
     "output_type": "stream",
     "text": [
      "mean of mask of imputed coords : tensor(0.3027)\n"
     ]
    },
    {
     "name": "stderr",
     "output_type": "stream",
     "text": [
      "2024-11-22 21:24:20 [INFO]: Epoch 050 - training loss: 11.9474\n"
     ]
    },
    {
     "name": "stdout",
     "output_type": "stream",
     "text": [
      "mean of mask of imputed coords : tensor(0.3060)\n"
     ]
    },
    {
     "name": "stderr",
     "output_type": "stream",
     "text": [
      "2024-11-22 21:24:26 [INFO]: Epoch 051 - training loss: 11.9370\n",
      "2024-11-22 21:24:31 [INFO]: Epoch 052 - training loss: 11.8246\n"
     ]
    },
    {
     "name": "stdout",
     "output_type": "stream",
     "text": [
      "mean of mask of imputed coords : tensor(0.2966)\n"
     ]
    },
    {
     "name": "stderr",
     "output_type": "stream",
     "text": [
      "2024-11-22 21:24:36 [INFO]: Epoch 053 - training loss: 11.8222\n"
     ]
    },
    {
     "name": "stdout",
     "output_type": "stream",
     "text": [
      "mean of mask of imputed coords : tensor(0.2939)\n"
     ]
    },
    {
     "name": "stderr",
     "output_type": "stream",
     "text": [
      "2024-11-22 21:24:41 [INFO]: Epoch 054 - training loss: 11.7638\n",
      "2024-11-22 21:24:45 [INFO]: Epoch 055 - training loss: 11.7564\n"
     ]
    },
    {
     "name": "stdout",
     "output_type": "stream",
     "text": [
      "mean of mask of imputed coords : tensor(0.3006)\n"
     ]
    },
    {
     "name": "stderr",
     "output_type": "stream",
     "text": [
      "2024-11-22 21:24:50 [INFO]: Epoch 056 - training loss: 11.7329\n",
      "2024-11-22 21:24:55 [INFO]: Epoch 057 - training loss: 11.7855\n"
     ]
    },
    {
     "name": "stdout",
     "output_type": "stream",
     "text": [
      "mean of mask of imputed coords : tensor(0.3011)\n"
     ]
    },
    {
     "name": "stderr",
     "output_type": "stream",
     "text": [
      "2024-11-22 21:25:01 [INFO]: Epoch 058 - training loss: 11.7163\n"
     ]
    },
    {
     "name": "stdout",
     "output_type": "stream",
     "text": [
      "mean of mask of imputed coords : tensor(0.2982)\n"
     ]
    },
    {
     "name": "stderr",
     "output_type": "stream",
     "text": [
      "2024-11-22 21:25:06 [INFO]: Epoch 059 - training loss: 11.7032\n",
      "2024-11-22 21:25:10 [INFO]: Epoch 060 - training loss: 11.7657\n"
     ]
    },
    {
     "name": "stdout",
     "output_type": "stream",
     "text": [
      "mean of mask of imputed coords : tensor(0.2979)\n"
     ]
    },
    {
     "name": "stderr",
     "output_type": "stream",
     "text": [
      "2024-11-22 21:25:15 [INFO]: Epoch 061 - training loss: 11.7107\n"
     ]
    },
    {
     "name": "stdout",
     "output_type": "stream",
     "text": [
      "mean of mask of imputed coords : tensor(0.2988)\n"
     ]
    },
    {
     "name": "stderr",
     "output_type": "stream",
     "text": [
      "2024-11-22 21:25:20 [INFO]: Epoch 062 - training loss: 11.6826\n",
      "2024-11-22 21:25:24 [INFO]: Epoch 063 - training loss: 11.5767\n"
     ]
    },
    {
     "name": "stdout",
     "output_type": "stream",
     "text": [
      "mean of mask of imputed coords : tensor(0.3064)\n"
     ]
    },
    {
     "name": "stderr",
     "output_type": "stream",
     "text": [
      "2024-11-22 21:25:30 [INFO]: Epoch 064 - training loss: 11.6502\n",
      "2024-11-22 21:25:35 [INFO]: Epoch 065 - training loss: 11.5796\n"
     ]
    },
    {
     "name": "stdout",
     "output_type": "stream",
     "text": [
      "mean of mask of imputed coords : tensor(0.2994)\n"
     ]
    },
    {
     "name": "stderr",
     "output_type": "stream",
     "text": [
      "2024-11-22 21:25:40 [INFO]: Epoch 066 - training loss: 11.5594\n"
     ]
    },
    {
     "name": "stdout",
     "output_type": "stream",
     "text": [
      "mean of mask of imputed coords : tensor(0.3045)\n"
     ]
    },
    {
     "name": "stderr",
     "output_type": "stream",
     "text": [
      "2024-11-22 21:25:45 [INFO]: Epoch 067 - training loss: 11.6521\n",
      "2024-11-22 21:25:49 [INFO]: Epoch 068 - training loss: 11.5314\n"
     ]
    },
    {
     "name": "stdout",
     "output_type": "stream",
     "text": [
      "mean of mask of imputed coords : tensor(0.3044)\n"
     ]
    },
    {
     "name": "stderr",
     "output_type": "stream",
     "text": [
      "2024-11-22 21:25:54 [INFO]: Epoch 069 - training loss: 11.4933\n"
     ]
    },
    {
     "name": "stdout",
     "output_type": "stream",
     "text": [
      "mean of mask of imputed coords : tensor(0.2986)\n"
     ]
    },
    {
     "name": "stderr",
     "output_type": "stream",
     "text": [
      "2024-11-22 21:25:59 [INFO]: Epoch 070 - training loss: 11.5648\n",
      "2024-11-22 21:26:04 [INFO]: Epoch 071 - training loss: 11.5144\n"
     ]
    },
    {
     "name": "stdout",
     "output_type": "stream",
     "text": [
      "mean of mask of imputed coords : tensor(0.3041)\n"
     ]
    },
    {
     "name": "stderr",
     "output_type": "stream",
     "text": [
      "2024-11-22 21:26:09 [INFO]: Epoch 072 - training loss: 11.4777\n",
      "2024-11-22 21:26:13 [INFO]: Epoch 073 - training loss: 11.5078\n"
     ]
    },
    {
     "name": "stdout",
     "output_type": "stream",
     "text": [
      "mean of mask of imputed coords : tensor(0.2957)\n"
     ]
    },
    {
     "name": "stderr",
     "output_type": "stream",
     "text": [
      "2024-11-22 21:26:18 [INFO]: Epoch 074 - training loss: 11.5440\n"
     ]
    },
    {
     "name": "stdout",
     "output_type": "stream",
     "text": [
      "mean of mask of imputed coords : tensor(0.2992)\n"
     ]
    },
    {
     "name": "stderr",
     "output_type": "stream",
     "text": [
      "2024-11-22 21:26:23 [INFO]: Epoch 075 - training loss: 11.4203\n",
      "2024-11-22 21:26:28 [INFO]: Epoch 076 - training loss: 11.4353\n"
     ]
    },
    {
     "name": "stdout",
     "output_type": "stream",
     "text": [
      "mean of mask of imputed coords : tensor(0.2930)\n"
     ]
    },
    {
     "name": "stderr",
     "output_type": "stream",
     "text": [
      "2024-11-22 21:26:33 [INFO]: Epoch 077 - training loss: 11.4905\n"
     ]
    },
    {
     "name": "stdout",
     "output_type": "stream",
     "text": [
      "mean of mask of imputed coords : tensor(0.3035)\n"
     ]
    },
    {
     "name": "stderr",
     "output_type": "stream",
     "text": [
      "2024-11-22 21:26:38 [INFO]: Epoch 078 - training loss: 11.4467\n",
      "2024-11-22 21:26:42 [INFO]: Epoch 079 - training loss: 11.4178\n"
     ]
    },
    {
     "name": "stdout",
     "output_type": "stream",
     "text": [
      "mean of mask of imputed coords : tensor(0.3016)\n"
     ]
    },
    {
     "name": "stderr",
     "output_type": "stream",
     "text": [
      "2024-11-22 21:26:48 [INFO]: Epoch 080 - training loss: 11.3995\n"
     ]
    },
    {
     "name": "stdout",
     "output_type": "stream",
     "text": [
      "mean of mask of imputed coords : tensor(0.2975)\n"
     ]
    },
    {
     "name": "stderr",
     "output_type": "stream",
     "text": [
      "2024-11-22 21:26:53 [INFO]: Epoch 081 - training loss: 11.3684\n",
      "2024-11-22 21:26:58 [INFO]: Epoch 082 - training loss: 11.4063\n"
     ]
    },
    {
     "name": "stdout",
     "output_type": "stream",
     "text": [
      "mean of mask of imputed coords : tensor(0.3007)\n"
     ]
    },
    {
     "name": "stderr",
     "output_type": "stream",
     "text": [
      "2024-11-22 21:27:02 [INFO]: Epoch 083 - training loss: 11.3986\n",
      "2024-11-22 21:27:07 [INFO]: Epoch 084 - training loss: 11.3321\n"
     ]
    },
    {
     "name": "stdout",
     "output_type": "stream",
     "text": [
      "mean of mask of imputed coords : tensor(0.2943)\n"
     ]
    },
    {
     "name": "stderr",
     "output_type": "stream",
     "text": [
      "2024-11-22 21:27:12 [INFO]: Epoch 085 - training loss: 11.3034\n"
     ]
    },
    {
     "name": "stdout",
     "output_type": "stream",
     "text": [
      "mean of mask of imputed coords : tensor(0.2940)\n"
     ]
    },
    {
     "name": "stderr",
     "output_type": "stream",
     "text": [
      "2024-11-22 21:27:17 [INFO]: Epoch 086 - training loss: 11.3357\n",
      "2024-11-22 21:27:21 [INFO]: Epoch 087 - training loss: 11.3373\n"
     ]
    },
    {
     "name": "stdout",
     "output_type": "stream",
     "text": [
      "mean of mask of imputed coords : tensor(0.2996)\n"
     ]
    },
    {
     "name": "stderr",
     "output_type": "stream",
     "text": [
      "2024-11-22 21:27:26 [INFO]: Epoch 088 - training loss: 11.2529\n"
     ]
    },
    {
     "name": "stdout",
     "output_type": "stream",
     "text": [
      "mean of mask of imputed coords : tensor(0.2965)\n"
     ]
    },
    {
     "name": "stderr",
     "output_type": "stream",
     "text": [
      "2024-11-22 21:27:31 [INFO]: Epoch 089 - training loss: 11.2393\n",
      "2024-11-22 21:27:36 [INFO]: Epoch 090 - training loss: 11.3213\n"
     ]
    },
    {
     "name": "stdout",
     "output_type": "stream",
     "text": [
      "mean of mask of imputed coords : tensor(0.3031)\n"
     ]
    },
    {
     "name": "stderr",
     "output_type": "stream",
     "text": [
      "2024-11-22 21:27:40 [INFO]: Epoch 091 - training loss: 11.3170\n",
      "2024-11-22 21:27:45 [INFO]: Epoch 092 - training loss: 11.2072\n"
     ]
    },
    {
     "name": "stdout",
     "output_type": "stream",
     "text": [
      "mean of mask of imputed coords : tensor(0.3012)\n"
     ]
    },
    {
     "name": "stderr",
     "output_type": "stream",
     "text": [
      "2024-11-22 21:27:49 [INFO]: Epoch 093 - training loss: 11.2335\n"
     ]
    },
    {
     "name": "stdout",
     "output_type": "stream",
     "text": [
      "mean of mask of imputed coords : tensor(0.3073)\n"
     ]
    },
    {
     "name": "stderr",
     "output_type": "stream",
     "text": [
      "2024-11-22 21:27:54 [INFO]: Epoch 094 - training loss: 11.2050\n",
      "2024-11-22 21:27:59 [INFO]: Epoch 095 - training loss: 11.1981\n"
     ]
    },
    {
     "name": "stdout",
     "output_type": "stream",
     "text": [
      "mean of mask of imputed coords : tensor(0.3066)\n"
     ]
    },
    {
     "name": "stderr",
     "output_type": "stream",
     "text": [
      "2024-11-22 21:28:05 [INFO]: Epoch 096 - training loss: 11.1592\n"
     ]
    },
    {
     "name": "stdout",
     "output_type": "stream",
     "text": [
      "mean of mask of imputed coords : tensor(0.2941)\n"
     ]
    },
    {
     "name": "stderr",
     "output_type": "stream",
     "text": [
      "2024-11-22 21:28:10 [INFO]: Epoch 097 - training loss: 11.0569\n",
      "2024-11-22 21:28:14 [INFO]: Epoch 098 - training loss: 11.1389\n"
     ]
    },
    {
     "name": "stdout",
     "output_type": "stream",
     "text": [
      "mean of mask of imputed coords : tensor(0.3001)\n"
     ]
    },
    {
     "name": "stderr",
     "output_type": "stream",
     "text": [
      "2024-11-22 21:28:19 [INFO]: Epoch 099 - training loss: 11.0091\n"
     ]
    },
    {
     "name": "stdout",
     "output_type": "stream",
     "text": [
      "mean of mask of imputed coords : tensor(0.3038)\n"
     ]
    },
    {
     "name": "stderr",
     "output_type": "stream",
     "text": [
      "2024-11-22 21:28:25 [INFO]: Epoch 100 - training loss: 11.2038\n",
      "2024-11-22 21:28:30 [INFO]: Epoch 101 - training loss: 11.1174\n"
     ]
    },
    {
     "name": "stdout",
     "output_type": "stream",
     "text": [
      "mean of mask of imputed coords : tensor(0.2966)\n"
     ]
    },
    {
     "name": "stderr",
     "output_type": "stream",
     "text": [
      "2024-11-22 21:28:35 [INFO]: Epoch 102 - training loss: 11.0951\n",
      "2024-11-22 21:28:39 [INFO]: Epoch 103 - training loss: 11.0746\n"
     ]
    },
    {
     "name": "stdout",
     "output_type": "stream",
     "text": [
      "mean of mask of imputed coords : tensor(0.2937)\n"
     ]
    },
    {
     "name": "stderr",
     "output_type": "stream",
     "text": [
      "2024-11-22 21:28:44 [INFO]: Epoch 104 - training loss: 11.0257\n"
     ]
    },
    {
     "name": "stdout",
     "output_type": "stream",
     "text": [
      "mean of mask of imputed coords : tensor(0.2969)\n"
     ]
    },
    {
     "name": "stderr",
     "output_type": "stream",
     "text": [
      "2024-11-22 21:28:49 [INFO]: Epoch 105 - training loss: 11.0257\n",
      "2024-11-22 21:28:53 [INFO]: Epoch 106 - training loss: 11.0198\n"
     ]
    },
    {
     "name": "stdout",
     "output_type": "stream",
     "text": [
      "mean of mask of imputed coords : tensor(0.2999)\n"
     ]
    },
    {
     "name": "stderr",
     "output_type": "stream",
     "text": [
      "2024-11-22 21:28:58 [INFO]: Epoch 107 - training loss: 11.0332\n"
     ]
    },
    {
     "name": "stdout",
     "output_type": "stream",
     "text": [
      "mean of mask of imputed coords : tensor(0.2964)\n"
     ]
    },
    {
     "name": "stderr",
     "output_type": "stream",
     "text": [
      "2024-11-22 21:29:03 [INFO]: Epoch 108 - training loss: 10.9966\n",
      "2024-11-22 21:29:08 [INFO]: Epoch 109 - training loss: 11.0431\n"
     ]
    },
    {
     "name": "stdout",
     "output_type": "stream",
     "text": [
      "mean of mask of imputed coords : tensor(0.3008)\n"
     ]
    },
    {
     "name": "stderr",
     "output_type": "stream",
     "text": [
      "2024-11-22 21:29:13 [INFO]: Epoch 110 - training loss: 10.9234\n",
      "2024-11-22 21:29:17 [INFO]: Epoch 111 - training loss: 11.0066\n"
     ]
    },
    {
     "name": "stdout",
     "output_type": "stream",
     "text": [
      "mean of mask of imputed coords : tensor(0.3036)\n"
     ]
    },
    {
     "name": "stderr",
     "output_type": "stream",
     "text": [
      "2024-11-22 21:29:22 [INFO]: Epoch 112 - training loss: 11.0139\n"
     ]
    },
    {
     "name": "stdout",
     "output_type": "stream",
     "text": [
      "mean of mask of imputed coords : tensor(0.2971)\n"
     ]
    },
    {
     "name": "stderr",
     "output_type": "stream",
     "text": [
      "2024-11-22 21:29:27 [INFO]: Epoch 113 - training loss: 10.9546\n",
      "2024-11-22 21:29:31 [INFO]: Epoch 114 - training loss: 10.9153\n"
     ]
    },
    {
     "name": "stdout",
     "output_type": "stream",
     "text": [
      "mean of mask of imputed coords : tensor(0.2984)\n"
     ]
    },
    {
     "name": "stderr",
     "output_type": "stream",
     "text": [
      "2024-11-22 21:29:36 [INFO]: Epoch 115 - training loss: 10.9509\n"
     ]
    },
    {
     "name": "stdout",
     "output_type": "stream",
     "text": [
      "mean of mask of imputed coords : tensor(0.3083)\n"
     ]
    },
    {
     "name": "stderr",
     "output_type": "stream",
     "text": [
      "2024-11-22 21:29:41 [INFO]: Epoch 116 - training loss: 10.9139\n",
      "2024-11-22 21:29:45 [INFO]: Epoch 117 - training loss: 10.9157\n"
     ]
    },
    {
     "name": "stdout",
     "output_type": "stream",
     "text": [
      "mean of mask of imputed coords : tensor(0.2985)\n"
     ]
    },
    {
     "name": "stderr",
     "output_type": "stream",
     "text": [
      "2024-11-22 21:29:50 [INFO]: Epoch 118 - training loss: 10.9158\n",
      "2024-11-22 21:29:55 [INFO]: Epoch 119 - training loss: 10.8919\n"
     ]
    },
    {
     "name": "stdout",
     "output_type": "stream",
     "text": [
      "mean of mask of imputed coords : tensor(0.3016)\n"
     ]
    },
    {
     "name": "stderr",
     "output_type": "stream",
     "text": [
      "2024-11-22 21:30:00 [INFO]: Epoch 120 - training loss: 10.9057\n"
     ]
    },
    {
     "name": "stdout",
     "output_type": "stream",
     "text": [
      "mean of mask of imputed coords : tensor(0.2936)\n"
     ]
    },
    {
     "name": "stderr",
     "output_type": "stream",
     "text": [
      "2024-11-22 21:30:05 [INFO]: Epoch 121 - training loss: 10.8911\n",
      "2024-11-22 21:30:09 [INFO]: Epoch 122 - training loss: 10.8210\n"
     ]
    },
    {
     "name": "stdout",
     "output_type": "stream",
     "text": [
      "mean of mask of imputed coords : tensor(0.2990)\n"
     ]
    },
    {
     "name": "stderr",
     "output_type": "stream",
     "text": [
      "2024-11-22 21:30:14 [INFO]: Epoch 123 - training loss: 10.8691\n"
     ]
    },
    {
     "name": "stdout",
     "output_type": "stream",
     "text": [
      "mean of mask of imputed coords : tensor(0.3017)\n"
     ]
    },
    {
     "name": "stderr",
     "output_type": "stream",
     "text": [
      "2024-11-22 21:30:21 [INFO]: Epoch 124 - training loss: 10.8044\n",
      "2024-11-22 21:30:26 [INFO]: Epoch 125 - training loss: 10.8767\n"
     ]
    },
    {
     "name": "stdout",
     "output_type": "stream",
     "text": [
      "mean of mask of imputed coords : tensor(0.3064)\n"
     ]
    },
    {
     "name": "stderr",
     "output_type": "stream",
     "text": [
      "2024-11-22 21:30:30 [INFO]: Epoch 126 - training loss: 10.8029\n"
     ]
    },
    {
     "name": "stdout",
     "output_type": "stream",
     "text": [
      "mean of mask of imputed coords : tensor(0.2981)\n"
     ]
    },
    {
     "name": "stderr",
     "output_type": "stream",
     "text": [
      "2024-11-22 21:30:35 [INFO]: Epoch 127 - training loss: 10.7945\n",
      "2024-11-22 21:30:40 [INFO]: Epoch 128 - training loss: 10.7970\n"
     ]
    },
    {
     "name": "stdout",
     "output_type": "stream",
     "text": [
      "mean of mask of imputed coords : tensor(0.3013)\n"
     ]
    },
    {
     "name": "stderr",
     "output_type": "stream",
     "text": [
      "2024-11-22 21:30:44 [INFO]: Epoch 129 - training loss: 10.7572\n",
      "2024-11-22 21:30:49 [INFO]: Epoch 130 - training loss: 10.7258\n"
     ]
    },
    {
     "name": "stdout",
     "output_type": "stream",
     "text": [
      "mean of mask of imputed coords : tensor(0.2986)\n"
     ]
    },
    {
     "name": "stderr",
     "output_type": "stream",
     "text": [
      "2024-11-22 21:30:54 [INFO]: Epoch 131 - training loss: 10.8196\n"
     ]
    },
    {
     "name": "stdout",
     "output_type": "stream",
     "text": [
      "mean of mask of imputed coords : tensor(0.2995)\n"
     ]
    },
    {
     "name": "stderr",
     "output_type": "stream",
     "text": [
      "2024-11-22 21:30:59 [INFO]: Epoch 132 - training loss: 10.7228\n",
      "2024-11-22 21:31:03 [INFO]: Epoch 133 - training loss: 10.7529\n"
     ]
    },
    {
     "name": "stdout",
     "output_type": "stream",
     "text": [
      "mean of mask of imputed coords : tensor(0.3041)\n"
     ]
    },
    {
     "name": "stderr",
     "output_type": "stream",
     "text": [
      "2024-11-22 21:31:09 [INFO]: Epoch 134 - training loss: 10.7692\n"
     ]
    },
    {
     "name": "stdout",
     "output_type": "stream",
     "text": [
      "mean of mask of imputed coords : tensor(0.2941)\n"
     ]
    },
    {
     "name": "stderr",
     "output_type": "stream",
     "text": [
      "2024-11-22 21:31:13 [INFO]: Epoch 135 - training loss: 10.7927\n",
      "2024-11-22 21:31:18 [INFO]: Epoch 136 - training loss: 10.7375\n"
     ]
    },
    {
     "name": "stdout",
     "output_type": "stream",
     "text": [
      "mean of mask of imputed coords : tensor(0.3043)\n"
     ]
    },
    {
     "name": "stderr",
     "output_type": "stream",
     "text": [
      "2024-11-22 21:31:23 [INFO]: Epoch 137 - training loss: 10.7358\n",
      "2024-11-22 21:31:27 [INFO]: Epoch 138 - training loss: 10.7047\n"
     ]
    },
    {
     "name": "stdout",
     "output_type": "stream",
     "text": [
      "mean of mask of imputed coords : tensor(0.3002)\n"
     ]
    },
    {
     "name": "stderr",
     "output_type": "stream",
     "text": [
      "2024-11-22 21:31:32 [INFO]: Epoch 139 - training loss: 10.6601\n"
     ]
    },
    {
     "name": "stdout",
     "output_type": "stream",
     "text": [
      "mean of mask of imputed coords : tensor(0.3004)\n"
     ]
    },
    {
     "name": "stderr",
     "output_type": "stream",
     "text": [
      "2024-11-22 21:31:38 [INFO]: Epoch 140 - training loss: 10.6710\n",
      "2024-11-22 21:31:42 [INFO]: Epoch 141 - training loss: 10.6372\n"
     ]
    },
    {
     "name": "stdout",
     "output_type": "stream",
     "text": [
      "mean of mask of imputed coords : tensor(0.2986)\n"
     ]
    },
    {
     "name": "stderr",
     "output_type": "stream",
     "text": [
      "2024-11-22 21:31:47 [INFO]: Epoch 142 - training loss: 10.7082\n"
     ]
    },
    {
     "name": "stdout",
     "output_type": "stream",
     "text": [
      "mean of mask of imputed coords : tensor(0.2998)\n"
     ]
    },
    {
     "name": "stderr",
     "output_type": "stream",
     "text": [
      "2024-11-22 21:31:52 [INFO]: Epoch 143 - training loss: 10.5869\n",
      "2024-11-22 21:31:56 [INFO]: Epoch 144 - training loss: 10.6151\n"
     ]
    },
    {
     "name": "stdout",
     "output_type": "stream",
     "text": [
      "mean of mask of imputed coords : tensor(0.2996)\n"
     ]
    },
    {
     "name": "stderr",
     "output_type": "stream",
     "text": [
      "2024-11-22 21:32:01 [INFO]: Epoch 145 - training loss: 10.6711\n",
      "2024-11-22 21:32:06 [INFO]: Epoch 146 - training loss: 10.5981\n"
     ]
    },
    {
     "name": "stdout",
     "output_type": "stream",
     "text": [
      "mean of mask of imputed coords : tensor(0.3019)\n"
     ]
    },
    {
     "name": "stderr",
     "output_type": "stream",
     "text": [
      "2024-11-22 21:32:11 [INFO]: Epoch 147 - training loss: 10.6329\n"
     ]
    },
    {
     "name": "stdout",
     "output_type": "stream",
     "text": [
      "mean of mask of imputed coords : tensor(0.2947)\n"
     ]
    },
    {
     "name": "stderr",
     "output_type": "stream",
     "text": [
      "2024-11-22 21:32:16 [INFO]: Epoch 148 - training loss: 10.7135\n",
      "2024-11-22 21:32:20 [INFO]: Epoch 149 - training loss: 10.6085\n"
     ]
    },
    {
     "name": "stdout",
     "output_type": "stream",
     "text": [
      "mean of mask of imputed coords : tensor(0.3048)\n"
     ]
    },
    {
     "name": "stderr",
     "output_type": "stream",
     "text": [
      "2024-11-22 21:32:25 [INFO]: Epoch 150 - training loss: 10.5572\n"
     ]
    },
    {
     "name": "stdout",
     "output_type": "stream",
     "text": [
      "mean of mask of imputed coords : tensor(0.3027)\n"
     ]
    },
    {
     "name": "stderr",
     "output_type": "stream",
     "text": [
      "2024-11-22 21:32:30 [INFO]: Epoch 151 - training loss: 10.5307\n",
      "2024-11-22 21:32:34 [INFO]: Epoch 152 - training loss: 10.5468\n"
     ]
    },
    {
     "name": "stdout",
     "output_type": "stream",
     "text": [
      "mean of mask of imputed coords : tensor(0.3021)\n"
     ]
    },
    {
     "name": "stderr",
     "output_type": "stream",
     "text": [
      "2024-11-22 21:32:39 [INFO]: Epoch 153 - training loss: 10.5470\n"
     ]
    },
    {
     "name": "stdout",
     "output_type": "stream",
     "text": [
      "mean of mask of imputed coords : tensor(0.2993)\n"
     ]
    },
    {
     "name": "stderr",
     "output_type": "stream",
     "text": [
      "2024-11-22 21:32:48 [INFO]: Epoch 154 - training loss: 10.5297\n",
      "2024-11-22 21:32:52 [INFO]: Epoch 155 - training loss: 10.5445\n"
     ]
    },
    {
     "name": "stdout",
     "output_type": "stream",
     "text": [
      "mean of mask of imputed coords : tensor(0.3042)\n"
     ]
    },
    {
     "name": "stderr",
     "output_type": "stream",
     "text": [
      "2024-11-22 21:32:57 [INFO]: Epoch 156 - training loss: 10.5441\n",
      "2024-11-22 21:33:01 [INFO]: Epoch 157 - training loss: 10.5954\n"
     ]
    },
    {
     "name": "stdout",
     "output_type": "stream",
     "text": [
      "mean of mask of imputed coords : tensor(0.3022)\n"
     ]
    },
    {
     "name": "stderr",
     "output_type": "stream",
     "text": [
      "2024-11-22 21:33:06 [INFO]: Epoch 158 - training loss: 10.4853\n"
     ]
    },
    {
     "name": "stdout",
     "output_type": "stream",
     "text": [
      "mean of mask of imputed coords : tensor(0.2970)\n"
     ]
    },
    {
     "name": "stderr",
     "output_type": "stream",
     "text": [
      "2024-11-22 21:33:11 [INFO]: Epoch 159 - training loss: 10.4459\n",
      "2024-11-22 21:33:15 [INFO]: Epoch 160 - training loss: 10.5071\n"
     ]
    },
    {
     "name": "stdout",
     "output_type": "stream",
     "text": [
      "mean of mask of imputed coords : tensor(0.3044)\n"
     ]
    },
    {
     "name": "stderr",
     "output_type": "stream",
     "text": [
      "2024-11-22 21:33:20 [INFO]: Epoch 161 - training loss: 10.4917\n"
     ]
    },
    {
     "name": "stdout",
     "output_type": "stream",
     "text": [
      "mean of mask of imputed coords : tensor(0.2989)\n"
     ]
    },
    {
     "name": "stderr",
     "output_type": "stream",
     "text": [
      "2024-11-22 21:33:26 [INFO]: Epoch 162 - training loss: 10.4753\n",
      "2024-11-22 21:33:30 [INFO]: Epoch 163 - training loss: 10.4590\n"
     ]
    },
    {
     "name": "stdout",
     "output_type": "stream",
     "text": [
      "mean of mask of imputed coords : tensor(0.2960)\n"
     ]
    },
    {
     "name": "stderr",
     "output_type": "stream",
     "text": [
      "2024-11-22 21:33:35 [INFO]: Epoch 164 - training loss: 10.4982\n",
      "2024-11-22 21:33:39 [INFO]: Epoch 165 - training loss: 10.4198\n"
     ]
    },
    {
     "name": "stdout",
     "output_type": "stream",
     "text": [
      "mean of mask of imputed coords : tensor(0.2924)\n"
     ]
    },
    {
     "name": "stderr",
     "output_type": "stream",
     "text": [
      "2024-11-22 21:33:44 [INFO]: Epoch 166 - training loss: 10.4496\n"
     ]
    },
    {
     "name": "stdout",
     "output_type": "stream",
     "text": [
      "mean of mask of imputed coords : tensor(0.2999)\n"
     ]
    },
    {
     "name": "stderr",
     "output_type": "stream",
     "text": [
      "2024-11-22 21:33:49 [INFO]: Epoch 167 - training loss: 10.3882\n",
      "2024-11-22 21:33:53 [INFO]: Epoch 168 - training loss: 10.4499\n"
     ]
    },
    {
     "name": "stdout",
     "output_type": "stream",
     "text": [
      "mean of mask of imputed coords : tensor(0.2960)\n"
     ]
    },
    {
     "name": "stderr",
     "output_type": "stream",
     "text": [
      "2024-11-22 21:33:58 [INFO]: Epoch 169 - training loss: 10.3679\n"
     ]
    },
    {
     "name": "stdout",
     "output_type": "stream",
     "text": [
      "mean of mask of imputed coords : tensor(0.2974)\n"
     ]
    },
    {
     "name": "stderr",
     "output_type": "stream",
     "text": [
      "2024-11-22 21:34:04 [INFO]: Epoch 170 - training loss: 10.3639\n",
      "2024-11-22 21:34:08 [INFO]: Epoch 171 - training loss: 10.4406\n"
     ]
    },
    {
     "name": "stdout",
     "output_type": "stream",
     "text": [
      "mean of mask of imputed coords : tensor(0.2939)\n"
     ]
    },
    {
     "name": "stderr",
     "output_type": "stream",
     "text": [
      "2024-11-22 21:34:13 [INFO]: Epoch 172 - training loss: 10.3781\n",
      "2024-11-22 21:34:17 [INFO]: Epoch 173 - training loss: 10.3965\n"
     ]
    },
    {
     "name": "stdout",
     "output_type": "stream",
     "text": [
      "mean of mask of imputed coords : tensor(0.2955)\n"
     ]
    },
    {
     "name": "stderr",
     "output_type": "stream",
     "text": [
      "2024-11-22 21:34:22 [INFO]: Epoch 174 - training loss: 10.3525\n"
     ]
    },
    {
     "name": "stdout",
     "output_type": "stream",
     "text": [
      "mean of mask of imputed coords : tensor(0.2963)\n"
     ]
    },
    {
     "name": "stderr",
     "output_type": "stream",
     "text": [
      "2024-11-22 21:34:27 [INFO]: Epoch 175 - training loss: 10.3735\n",
      "2024-11-22 21:34:31 [INFO]: Epoch 176 - training loss: 10.3448\n"
     ]
    },
    {
     "name": "stdout",
     "output_type": "stream",
     "text": [
      "mean of mask of imputed coords : tensor(0.2880)\n"
     ]
    },
    {
     "name": "stderr",
     "output_type": "stream",
     "text": [
      "2024-11-22 21:34:37 [INFO]: Epoch 177 - training loss: 10.4056\n"
     ]
    },
    {
     "name": "stdout",
     "output_type": "stream",
     "text": [
      "mean of mask of imputed coords : tensor(0.3029)\n"
     ]
    },
    {
     "name": "stderr",
     "output_type": "stream",
     "text": [
      "2024-11-22 21:34:42 [INFO]: Epoch 178 - training loss: 10.4251\n",
      "2024-11-22 21:34:46 [INFO]: Epoch 179 - training loss: 10.3059\n"
     ]
    },
    {
     "name": "stdout",
     "output_type": "stream",
     "text": [
      "mean of mask of imputed coords : tensor(0.3001)\n"
     ]
    },
    {
     "name": "stderr",
     "output_type": "stream",
     "text": [
      "2024-11-22 21:34:51 [INFO]: Epoch 180 - training loss: 10.2767\n"
     ]
    },
    {
     "name": "stdout",
     "output_type": "stream",
     "text": [
      "mean of mask of imputed coords : tensor(0.3018)\n"
     ]
    },
    {
     "name": "stderr",
     "output_type": "stream",
     "text": [
      "2024-11-22 21:34:56 [INFO]: Epoch 181 - training loss: 10.3438\n",
      "2024-11-22 21:35:01 [INFO]: Epoch 182 - training loss: 10.3755\n"
     ]
    },
    {
     "name": "stdout",
     "output_type": "stream",
     "text": [
      "mean of mask of imputed coords : tensor(0.2970)\n"
     ]
    },
    {
     "name": "stderr",
     "output_type": "stream",
     "text": [
      "2024-11-22 21:35:06 [INFO]: Epoch 183 - training loss: 10.3322\n",
      "2024-11-22 21:35:10 [INFO]: Epoch 184 - training loss: 10.2772\n"
     ]
    },
    {
     "name": "stdout",
     "output_type": "stream",
     "text": [
      "mean of mask of imputed coords : tensor(0.2973)\n"
     ]
    },
    {
     "name": "stderr",
     "output_type": "stream",
     "text": [
      "2024-11-22 21:35:16 [INFO]: Epoch 185 - training loss: 10.3025\n"
     ]
    },
    {
     "name": "stdout",
     "output_type": "stream",
     "text": [
      "mean of mask of imputed coords : tensor(0.2993)\n"
     ]
    },
    {
     "name": "stderr",
     "output_type": "stream",
     "text": [
      "2024-11-22 21:35:20 [INFO]: Epoch 186 - training loss: 10.2728\n",
      "2024-11-22 21:35:25 [INFO]: Epoch 187 - training loss: 10.2761\n"
     ]
    },
    {
     "name": "stdout",
     "output_type": "stream",
     "text": [
      "mean of mask of imputed coords : tensor(0.3071)\n"
     ]
    },
    {
     "name": "stderr",
     "output_type": "stream",
     "text": [
      "2024-11-22 21:35:29 [INFO]: Epoch 188 - training loss: 10.3484\n"
     ]
    },
    {
     "name": "stdout",
     "output_type": "stream",
     "text": [
      "mean of mask of imputed coords : tensor(0.3032)\n"
     ]
    },
    {
     "name": "stderr",
     "output_type": "stream",
     "text": [
      "2024-11-22 21:35:34 [INFO]: Epoch 189 - training loss: 10.2908\n",
      "2024-11-22 21:35:39 [INFO]: Epoch 190 - training loss: 10.2989\n"
     ]
    },
    {
     "name": "stdout",
     "output_type": "stream",
     "text": [
      "mean of mask of imputed coords : tensor(0.3064)\n"
     ]
    },
    {
     "name": "stderr",
     "output_type": "stream",
     "text": [
      "2024-11-22 21:35:52 [INFO]: Epoch 191 - training loss: 10.2634\n",
      "2024-11-22 21:35:57 [INFO]: Epoch 192 - training loss: 10.2245\n"
     ]
    },
    {
     "name": "stdout",
     "output_type": "stream",
     "text": [
      "mean of mask of imputed coords : tensor(0.2963)\n"
     ]
    },
    {
     "name": "stderr",
     "output_type": "stream",
     "text": [
      "2024-11-22 21:36:02 [INFO]: Epoch 193 - training loss: 10.2242\n"
     ]
    },
    {
     "name": "stdout",
     "output_type": "stream",
     "text": [
      "mean of mask of imputed coords : tensor(0.2941)\n"
     ]
    },
    {
     "name": "stderr",
     "output_type": "stream",
     "text": [
      "2024-11-22 21:36:07 [INFO]: Epoch 194 - training loss: 10.2349\n",
      "2024-11-22 21:36:11 [INFO]: Epoch 195 - training loss: 10.1273\n"
     ]
    },
    {
     "name": "stdout",
     "output_type": "stream",
     "text": [
      "mean of mask of imputed coords : tensor(0.2996)\n"
     ]
    },
    {
     "name": "stderr",
     "output_type": "stream",
     "text": [
      "2024-11-22 21:36:16 [INFO]: Epoch 196 - training loss: 10.2258\n"
     ]
    },
    {
     "name": "stdout",
     "output_type": "stream",
     "text": [
      "mean of mask of imputed coords : tensor(0.2962)\n"
     ]
    },
    {
     "name": "stderr",
     "output_type": "stream",
     "text": [
      "2024-11-22 21:36:21 [INFO]: Epoch 197 - training loss: 10.1297\n",
      "2024-11-22 21:36:25 [INFO]: Epoch 198 - training loss: 10.2173\n"
     ]
    },
    {
     "name": "stdout",
     "output_type": "stream",
     "text": [
      "mean of mask of imputed coords : tensor(0.3004)\n"
     ]
    },
    {
     "name": "stderr",
     "output_type": "stream",
     "text": [
      "2024-11-22 21:36:30 [INFO]: Epoch 199 - training loss: 10.1714\n"
     ]
    },
    {
     "name": "stdout",
     "output_type": "stream",
     "text": [
      "mean of mask of imputed coords : tensor(0.3016)\n"
     ]
    },
    {
     "name": "stderr",
     "output_type": "stream",
     "text": [
      "2024-11-22 21:36:35 [INFO]: Epoch 200 - training loss: 10.1497\n",
      "2024-11-22 21:36:35 [INFO]: Finished training. The best model is from epoch#195.\n"
     ]
    }
   ],
   "source": [
    "gpvae.fit(dataset)  # train the model on the dataset"
   ]
  },
  {
   "cell_type": "code",
   "execution_count": 28,
   "metadata": {},
   "outputs": [
    {
     "name": "stdout",
     "output_type": "stream",
     "text": [
      "0.0007944988319650292 0.012348038144409657 0.586040198802948\n"
     ]
    }
   ],
   "source": [
    "## define tests to evaluate convergence of AE\n",
    "\n",
    "## Assess reconstruction error\n",
    "import torch\n",
    "\n",
    "def get_errors(gpvae, X):\n",
    "\n",
    "    X_corrupted = mcar(X, 0.3)\n",
    "    X_corrupted[X_corrupted!=X_corrupted] = 0\n",
    "    \n",
    "    z = gpvae.model.backbone.encoder(torch.tensor(X).float()).mean\n",
    "    X_recon = gpvae.model.backbone.decoder(z).mean\n",
    "    \n",
    "    z_corrupted = gpvae.model.backbone.encoder(torch.tensor(X_corrupted).float()).rsample()#sample_shape = torch.Size([10])\n",
    "    X_recon_corrupted = gpvae.model.backbone.decoder(z_corrupted).mean\n",
    "    \n",
    "    error = (torch.tensor(X).float() - X_recon).pow(2)[X!=0].mean().item()\n",
    "    \n",
    "    error_corrupted = (torch.tensor(X).float() - X_recon_corrupted).pow(2)[X_corrupted!=0].mean().item()\n",
    "    \n",
    "    error_imputation_corrupted = (torch.tensor(X).float() - X_recon_corrupted).pow(2)[X_corrupted==0].mean().item()\n",
    "    \n",
    "    print(error, error_corrupted, error_imputation_corrupted)\n",
    "\n",
    "    return [error, error_corrupted, error_imputation_corrupted]\n",
    "\n",
    "err_p030 = get_errors(gpvae, X)\n"
   ]
  },
  {
   "cell_type": "code",
   "execution_count": 17,
   "metadata": {},
   "outputs": [
    {
     "name": "stdout",
     "output_type": "stream",
     "text": [
      "0.001754634315147996 0.013832245022058487 0.5730319619178772\n"
     ]
    },
    {
     "ename": "NameError",
     "evalue": "name 'p_dataset' is not defined",
     "output_type": "error",
     "traceback": [
      "\u001b[0;31m---------------------------------------------------------------------------\u001b[0m",
      "\u001b[0;31mNameError\u001b[0m                                 Traceback (most recent call last)",
      "Cell \u001b[0;32mIn[17], line 3\u001b[0m\n\u001b[1;32m      1\u001b[0m errs \u001b[38;5;241m=\u001b[39m {}\n\u001b[0;32m----> 3\u001b[0m errs[\u001b[38;5;124mf\u001b[39m\u001b[38;5;124m'\u001b[39m\u001b[38;5;124mp_dataset_\u001b[39m\u001b[38;5;132;01m{\u001b[39;00mp_dataset\u001b[38;5;132;01m}\u001b[39;00m\u001b[38;5;124m_p_model_\u001b[39m\u001b[38;5;132;01m{\u001b[39;00mp_model\u001b[38;5;132;01m}\u001b[39;00m\u001b[38;5;124m_gamma_\u001b[39m\u001b[38;5;132;01m{\u001b[39;00mgamma\u001b[38;5;132;01m}\u001b[39;00m\u001b[38;5;124m'\u001b[39m] \u001b[38;5;241m=\u001b[39m get_errors(gpvae, X)\n",
      "\u001b[0;31mNameError\u001b[0m: name 'p_dataset' is not defined"
     ]
    }
   ],
   "source": [
    "errs = {}\n",
    "\n",
    "errs[f'p_dataset_{p_dataset}_p_model_{p_model}_gamma_{gamma}'] = get_errors(gpvae, X)"
   ]
  },
  {
   "cell_type": "code",
   "execution_count": null,
   "metadata": {},
   "outputs": [
    {
     "name": "stderr",
     "output_type": "stream",
     "text": [
      "2024-11-22 21:40:21 [INFO]: Epoch 001 - training loss: 15.8823\n"
     ]
    },
    {
     "name": "stdout",
     "output_type": "stream",
     "text": [
      "mean of mask of imputed coords : tensor(0.5144)\n"
     ]
    },
    {
     "name": "stderr",
     "output_type": "stream",
     "text": [
      "2024-11-22 21:40:26 [INFO]: Epoch 002 - training loss: 15.8925\n",
      "2024-11-22 21:40:30 [INFO]: Epoch 003 - training loss: 15.7782\n"
     ]
    },
    {
     "name": "stdout",
     "output_type": "stream",
     "text": [
      "mean of mask of imputed coords : tensor(0.5126)\n"
     ]
    },
    {
     "name": "stderr",
     "output_type": "stream",
     "text": [
      "2024-11-22 21:40:36 [INFO]: Epoch 004 - training loss: 15.7673\n"
     ]
    },
    {
     "name": "stdout",
     "output_type": "stream",
     "text": [
      "mean of mask of imputed coords : tensor(0.5178)\n"
     ]
    },
    {
     "name": "stderr",
     "output_type": "stream",
     "text": [
      "2024-11-22 21:40:41 [INFO]: Epoch 005 - training loss: 15.6614\n",
      "2024-11-22 21:40:46 [INFO]: Epoch 006 - training loss: 15.5967\n"
     ]
    },
    {
     "name": "stdout",
     "output_type": "stream",
     "text": [
      "mean of mask of imputed coords : tensor(0.5154)\n"
     ]
    },
    {
     "name": "stderr",
     "output_type": "stream",
     "text": [
      "2024-11-22 21:40:51 [INFO]: Epoch 007 - training loss: 15.5723\n"
     ]
    },
    {
     "name": "stdout",
     "output_type": "stream",
     "text": [
      "mean of mask of imputed coords : tensor(0.5154)\n"
     ]
    },
    {
     "name": "stderr",
     "output_type": "stream",
     "text": [
      "2024-11-22 21:40:56 [INFO]: Epoch 008 - training loss: 15.4648\n",
      "2024-11-22 21:41:01 [INFO]: Epoch 009 - training loss: 15.4841\n"
     ]
    },
    {
     "name": "stdout",
     "output_type": "stream",
     "text": [
      "mean of mask of imputed coords : tensor(0.5161)\n"
     ]
    },
    {
     "name": "stderr",
     "output_type": "stream",
     "text": [
      "2024-11-22 21:41:06 [INFO]: Epoch 010 - training loss: 15.3661\n",
      "2024-11-22 21:41:11 [INFO]: Epoch 011 - training loss: 15.3733\n"
     ]
    },
    {
     "name": "stdout",
     "output_type": "stream",
     "text": [
      "mean of mask of imputed coords : tensor(0.5180)\n"
     ]
    },
    {
     "name": "stderr",
     "output_type": "stream",
     "text": [
      "2024-11-22 21:41:17 [INFO]: Epoch 012 - training loss: 15.3131\n"
     ]
    },
    {
     "name": "stdout",
     "output_type": "stream",
     "text": [
      "mean of mask of imputed coords : tensor(0.5131)\n"
     ]
    },
    {
     "name": "stderr",
     "output_type": "stream",
     "text": [
      "2024-11-22 21:41:22 [INFO]: Epoch 013 - training loss: 15.3391\n",
      "2024-11-22 21:41:26 [INFO]: Epoch 014 - training loss: 15.1726\n"
     ]
    },
    {
     "name": "stdout",
     "output_type": "stream",
     "text": [
      "mean of mask of imputed coords : tensor(0.5151)\n"
     ]
    },
    {
     "name": "stderr",
     "output_type": "stream",
     "text": [
      "2024-11-22 21:41:31 [INFO]: Epoch 015 - training loss: 15.1611\n"
     ]
    },
    {
     "name": "stdout",
     "output_type": "stream",
     "text": [
      "mean of mask of imputed coords : tensor(0.5197)\n"
     ]
    },
    {
     "name": "stderr",
     "output_type": "stream",
     "text": [
      "2024-11-22 21:41:36 [INFO]: Epoch 016 - training loss: 15.2436\n",
      "2024-11-22 21:41:41 [INFO]: Epoch 017 - training loss: 15.0889\n"
     ]
    },
    {
     "name": "stdout",
     "output_type": "stream",
     "text": [
      "mean of mask of imputed coords : tensor(0.5151)\n"
     ]
    },
    {
     "name": "stderr",
     "output_type": "stream",
     "text": [
      "2024-11-22 21:41:46 [INFO]: Epoch 018 - training loss: 15.1560\n",
      "2024-11-22 21:41:51 [INFO]: Epoch 019 - training loss: 15.0425\n"
     ]
    },
    {
     "name": "stdout",
     "output_type": "stream",
     "text": [
      "mean of mask of imputed coords : tensor(0.5128)\n"
     ]
    },
    {
     "name": "stderr",
     "output_type": "stream",
     "text": [
      "2024-11-22 21:41:56 [INFO]: Epoch 020 - training loss: 15.0398\n"
     ]
    },
    {
     "name": "stdout",
     "output_type": "stream",
     "text": [
      "mean of mask of imputed coords : tensor(0.5123)\n"
     ]
    },
    {
     "name": "stderr",
     "output_type": "stream",
     "text": [
      "2024-11-22 21:42:01 [INFO]: Epoch 021 - training loss: 15.1198\n",
      "2024-11-22 21:42:05 [INFO]: Epoch 022 - training loss: 15.0671\n"
     ]
    },
    {
     "name": "stdout",
     "output_type": "stream",
     "text": [
      "mean of mask of imputed coords : tensor(0.5189)\n"
     ]
    },
    {
     "name": "stderr",
     "output_type": "stream",
     "text": [
      "2024-11-22 21:42:10 [INFO]: Epoch 023 - training loss: 14.9769\n"
     ]
    },
    {
     "name": "stdout",
     "output_type": "stream",
     "text": [
      "mean of mask of imputed coords : tensor(0.5186)\n"
     ]
    },
    {
     "name": "stderr",
     "output_type": "stream",
     "text": [
      "2024-11-22 21:42:16 [INFO]: Epoch 024 - training loss: 14.9426\n",
      "2024-11-22 21:42:20 [INFO]: Epoch 025 - training loss: 15.0743\n"
     ]
    },
    {
     "name": "stdout",
     "output_type": "stream",
     "text": [
      "mean of mask of imputed coords : tensor(0.5130)\n"
     ]
    },
    {
     "name": "stderr",
     "output_type": "stream",
     "text": [
      "2024-11-22 21:42:25 [INFO]: Epoch 026 - training loss: 14.9808\n"
     ]
    },
    {
     "name": "stdout",
     "output_type": "stream",
     "text": [
      "mean of mask of imputed coords : tensor(0.5268)\n"
     ]
    },
    {
     "name": "stderr",
     "output_type": "stream",
     "text": [
      "2024-11-22 21:42:31 [INFO]: Epoch 027 - training loss: 15.0160\n",
      "2024-11-22 21:42:35 [INFO]: Epoch 028 - training loss: 14.9297\n"
     ]
    },
    {
     "name": "stdout",
     "output_type": "stream",
     "text": [
      "mean of mask of imputed coords : tensor(0.5162)\n"
     ]
    },
    {
     "name": "stderr",
     "output_type": "stream",
     "text": [
      "2024-11-22 21:42:40 [INFO]: Epoch 029 - training loss: 14.8655\n",
      "2024-11-22 21:42:45 [INFO]: Epoch 030 - training loss: 14.8799\n"
     ]
    },
    {
     "name": "stdout",
     "output_type": "stream",
     "text": [
      "mean of mask of imputed coords : tensor(0.5198)\n"
     ]
    },
    {
     "name": "stderr",
     "output_type": "stream",
     "text": [
      "2024-11-22 21:42:51 [INFO]: Epoch 031 - training loss: 14.8548\n"
     ]
    },
    {
     "name": "stdout",
     "output_type": "stream",
     "text": [
      "mean of mask of imputed coords : tensor(0.5144)\n"
     ]
    },
    {
     "name": "stderr",
     "output_type": "stream",
     "text": [
      "2024-11-22 21:42:58 [INFO]: Epoch 032 - training loss: 14.8573\n",
      "2024-11-22 21:43:04 [INFO]: Epoch 033 - training loss: 14.7630\n"
     ]
    }
   ],
   "source": [
    "gpvae.model.backbone.p = 0.1\n",
    "\n",
    "#gpvae.model.backbone.load_state_dict(torch.load('model_weights2.pth'))\n",
    "gpvae.epochs = 100\n",
    "gpvae.fit(dataset)  # train the model on the dataset"
   ]
  },
  {
   "cell_type": "code",
   "execution_count": null,
   "metadata": {},
   "outputs": [],
   "source": [
    "# Assume 'model' is your neural network instance\n",
    "torch.save(gpvae.model.backbone.state_dict(), 'model_weights_p030.pth')\n",
    "\n",
    "#gpvae_backup = gpvae"
   ]
  },
  {
   "cell_type": "code",
   "execution_count": null,
   "metadata": {},
   "outputs": [],
   "source": [
    "import torch\n",
    "#gpvae.model.backbone.load_state_dict(torch.load('model_weights_p005.pth'))\n",
    "\n",
    "gpvae.model.backbone.train_decoder = False\n",
    "for param in gpvae.model.backbone.decoder.parameters():\n",
    "    param.requires_grad = False\n",
    "gpvae.epochs = 100\n",
    "    \n",
    "gpvae.model.backbone.p = 0.1\n",
    "gpvae.model.backbone.gamma = 0.3\n",
    "\n",
    "# Here I use the whole dataset as the training set because ground truth is not visible to the model, you can also split it into train/val/test sets\n",
    "gpvae.fit(dataset)  # train the model on the dataset"
   ]
  },
  {
   "cell_type": "code",
   "execution_count": null,
   "metadata": {},
   "outputs": [],
   "source": [
    "# Assume 'model' is your neural network instance\n",
    "torch.save(gpvae.model.backbone.state_dict(), 'model_weights2.pth')\n",
    "\n",
    "#gpvae_backup = gpvae"
   ]
  },
  {
   "cell_type": "code",
   "execution_count": null,
   "metadata": {},
   "outputs": [],
   "source": [
    "gpvae.model.backbone.load_state_dict(torch.load('model_weights2.pth'))\n",
    "\n",
    "\n",
    "for param in gpvae.model.backbone.decoder.parameters():\n",
    "    param.requires_grad = False\n",
    "    \n",
    "gpvae.model.backbone.p = 0.3\n",
    "# Here I use the whole dataset as the training set because ground truth is not visible to the model, you can also split it into train/val/test sets\n",
    "gpvae.fit(dataset)  # train the model on the dataset"
   ]
  },
  {
   "cell_type": "code",
   "execution_count": null,
   "metadata": {},
   "outputs": [],
   "source": [
    "#gpvae.model.backbone.load_state_dict(torch.load('model_weights2.pth'))\n",
    "\n",
    "\n",
    "for param in gpvae.model.backbone.decoder.parameters():\n",
    "    param.requires_grad = False\n",
    "    \n",
    "gpvae.model.backbone.p = 0.3\n",
    "# Here I use the whole dataset as the training set because ground truth is not visible to the model, you can also split it into train/val/test sets\n",
    "gpvae.fit(dataset)  # train the model on the dataset"
   ]
  },
  {
   "cell_type": "markdown",
   "metadata": {},
   "source": [
    "## RUN THIS"
   ]
  },
  {
   "cell_type": "code",
   "execution_count": null,
   "metadata": {},
   "outputs": [],
   "source": [
    "gpvae.model.backbone.p = 0.1\n",
    "\n",
    "gpvae.fit(dataset)  # train the model on the dataset"
   ]
  },
  {
   "cell_type": "code",
   "execution_count": null,
   "metadata": {},
   "outputs": [],
   "source": [
    "## Assess reconstruction error\n",
    "import torch\n",
    "\n",
    "z = gpvae.model.backbone.encoder(torch.tensor(X).float()).mean\n",
    "X_recon = gpvae.model.backbone.decoder(z).mean\n",
    "\n",
    "error = (torch.tensor(X).float() - X_recon).pow(2)[X!=0].mean()\n",
    "\n",
    "print(error)"
   ]
  },
  {
   "cell_type": "code",
   "execution_count": null,
   "metadata": {
    "scrolled": true
   },
   "outputs": [],
   "source": [
    "for param in gpvae.model.backbone.decoder.parameters():\n",
    "    param.requires_grad = False\n",
    "    \n",
    "gpvae.model.backbone.p = 0.1\n",
    "# Here I use the whole dataset as the training set because ground truth is not visible to the model, you can also split it into train/val/test sets\n",
    "gpvae.fit(dataset)  # train the model on the dataset"
   ]
  },
  {
   "cell_type": "code",
   "execution_count": null,
   "metadata": {},
   "outputs": [],
   "source": [
    "gpvae.model.backbone.p = .3\n",
    "gpvae.model.backbone.sampling = True\n",
    "gpvae.fit(dataset)  # train the model on the dataset"
   ]
  },
  {
   "cell_type": "code",
   "execution_count": null,
   "metadata": {},
   "outputs": [],
   "source": [
    "import gpytorch\n",
    "import torch\n",
    "with gpytorch.settings.cholesky_jitter(1e-4):\n",
    "    with torch.autograd.set_detect_anomaly(True):\n",
    "        gpvae.fit_kernel(dataset)  # train the model on the dataset\n"
   ]
  },
  {
   "cell_type": "code",
   "execution_count": null,
   "metadata": {},
   "outputs": [],
   "source": [
    "gpvae.gp.gp_models[0].covar_module.outputscale\n"
   ]
  },
  {
   "cell_type": "code",
   "execution_count": null,
   "metadata": {},
   "outputs": [],
   "source": [
    "help(gpvae.gp.gp_models[0].covar_module)\n"
   ]
  },
  {
   "cell_type": "code",
   "execution_count": null,
   "metadata": {},
   "outputs": [],
   "source": [
    "import torch\n",
    "x = torch.ones((8,48))\n",
    "gpvae.gp.gp_models[0](x)"
   ]
  },
  {
   "cell_type": "code",
   "execution_count": null,
   "metadata": {},
   "outputs": [],
   "source": [
    "gpvae.gp._fit_kernel"
   ]
  },
  {
   "cell_type": "code",
   "execution_count": null,
   "metadata": {},
   "outputs": [],
   "source": [
    "imputation = gpvae.impute(dataset)  # impute the originally-missing values and artificially-missing values\n",
    "indicating_mask = np.isnan(X) ^ np.isnan(X_ori)  # indicating mask for imputation error calculation\n",
    "mae = calc_mae(imputation, np.nan_to_num(X_ori), indicating_mask)  # calculate mean absolute error on the ground truth (artificially-missing values)\n",
    "gpvae.save(\"save_it_here/gpvae_physionet2012.pypots\")  # save the model for future use\n",
    "gpvae.load(\"save_it_here/gpvae_physionet2012.pypots\")  # reload the serialized model file for following imputation or training"
   ]
  },
  {
   "cell_type": "code",
   "execution_count": null,
   "metadata": {},
   "outputs": [],
   "source": [
    "\n",
    "# Model training. This is PyPOTS showtime.\n",
    "from pypots.imputation import GPVAE\n",
    "from pypots.utils.metrics import calc_mae\n",
    "gpvae = GPVAE(n_steps=48, n_features=37, latent_size = 12, epochs=10)\n",
    "# Here I use the whole dataset as the training set because ground truth is not visible to the model, you can also split it into train/val/test sets\n",
    "gpvae.fit(dataset)  # train the model on the dataset\n",
    "imputation = gpvae.impute(dataset)  # impute the originally-missing values and artificially-missing values\n",
    "indicating_mask = np.isnan(X) ^ np.isnan(X_ori)  # indicating mask for imputation error calculation\n",
    "mae = calc_mae(imputation, np.nan_to_num(X_ori), indicating_mask)  # calculate mean absolute error on the ground truth (artificially-missing values)\n",
    "gpvae.save(\"save_it_here/gpvae_physionet2012.pypots\")  # save the model for future use\n",
    "gpvae.load(\"save_it_here/gpvae_physionet2012.pypots\")  # reload the serialized model file for following imputation or training"
   ]
  },
  {
   "cell_type": "code",
   "execution_count": null,
   "metadata": {},
   "outputs": [],
   "source": [
    "\n",
    "# Model training. This is PyPOTS showtime.\n",
    "from pypots.imputation import SAITS\n",
    "from pypots.utils.metrics import calc_mae\n",
    "gpvae = SAITS(n_steps=48, n_features=37, n_layers=2, d_model=256, n_heads=4, d_k=64, d_v=64, d_ffn=128, dropout=0.1, epochs=10)\n",
    "# Here I use the whole dataset as the training set because ground truth is not visible to the model, you can also split it into train/val/test sets\n",
    "gpvae.fit(dataset)  # train the model on the dataset\n",
    "imputation = gpvae.impute(dataset)  # impute the originally-missing values and artificially-missing values\n",
    "indicating_mask = np.isnan(X) ^ np.isnan(X_ori)  # indicating mask for imputation error calculation\n",
    "mae = calc_mae(imputation, np.nan_to_num(X_ori), indicating_mask)  # calculate mean absolute error on the ground truth (artificially-missing values)\n",
    "gpvae.save(\"save_it_here/saits_physionet2012.pypots\")  # save the model for future use\n",
    "gpvae.load(\"save_it_here/saits_physionet2012.pypots\")  # reload the serialized model file for following imputation or training"
   ]
  },
  {
   "cell_type": "code",
   "execution_count": null,
   "metadata": {},
   "outputs": [],
   "source": []
  }
 ],
 "metadata": {
  "kernelspec": {
   "display_name": "Python 3 (ipykernel)",
   "language": "python",
   "name": "python3"
  },
  "language_info": {
   "codemirror_mode": {
    "name": "ipython",
    "version": 3
   },
   "file_extension": ".py",
   "mimetype": "text/x-python",
   "name": "python",
   "nbconvert_exporter": "python",
   "pygments_lexer": "ipython3",
   "version": "3.8.20"
  },
  "vscode": {
   "interpreter": {
    "hash": "987b460d08f604795c721e1c68ec49401862eb2a5232a5e7e3cfde3c54adb415"
   }
  }
 },
 "nbformat": 4,
 "nbformat_minor": 4
}
